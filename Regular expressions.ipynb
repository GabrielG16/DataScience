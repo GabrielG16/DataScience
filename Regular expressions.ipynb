{
 "cells": [
  {
   "cell_type": "markdown",
   "metadata": {},
   "source": [
    "# Forma flexível de identificar cadeias de caracteres com determinados padrões"
   ]
  },
  {
   "cell_type": "markdown",
   "metadata": {},
   "source": [
    "#            search - \n",
    "Verifica se há ocorrência de uma sequencia de caracteres em uma string; Ao encontrar uma única ocorrência, a função retorna a localização da primeira ocorrência apenas, ainda que hajam mais.\n",
    "            Ex:"
   ]
  },
  {
   "cell_type": "code",
   "execution_count": 5,
   "metadata": {},
   "outputs": [
    {
     "name": "stdout",
     "output_type": "stream",
     "text": [
      "<re.Match object; span=(10, 15), match='teste'>\n"
     ]
    }
   ],
   "source": [
    "import re\n",
    "exemplo = 'Este é um teste de expressões teste regulares'\n",
    "print(re.search(r'teste',exemplo)) # o 'r' evita que se tenha que digitar muitas barras para 'escapar' o caractere. e sinaliza uma expressão regular"
   ]
  },
  {
   "cell_type": "markdown",
   "metadata": {},
   "source": [
    "# findall - \n",
    "Funciona de forma semelhante ao search e encontra todas as ocorrências de uma expressão em uma string retornando uma lista com todas as ocorrências"
   ]
  },
  {
   "cell_type": "code",
   "execution_count": 6,
   "metadata": {},
   "outputs": [
    {
     "name": "stdout",
     "output_type": "stream",
     "text": [
      "['teste', 'teste']\n"
     ]
    }
   ],
   "source": [
    "print(re.findall(r'teste',exemplo))"
   ]
  },
  {
   "cell_type": "markdown",
   "metadata": {},
   "source": [
    "# sub - \n",
    "Estrutura também semelhante mas adiciona um segundo parâmetro que é o que será substituído. Substitui todas as ocorrências por padrão. (padrão count = 0) \n"
   ]
  },
  {
   "cell_type": "code",
   "execution_count": 8,
   "metadata": {},
   "outputs": [
    {
     "name": "stdout",
     "output_type": "stream",
     "text": [
      "Este é um exemplo de expressões exemplo regulares\n"
     ]
    }
   ],
   "source": [
    "print(re.sub(r'teste', 'exemplo',exemplo))"
   ]
  },
  {
   "cell_type": "markdown",
   "metadata": {},
   "source": [
    " # compile - \n",
    " Evita o recompilamento da expressão regular para executar os métodos do pacote."
   ]
  },
  {
   "cell_type": "code",
   "execution_count": 12,
   "metadata": {},
   "outputs": [
    {
     "name": "stdout",
     "output_type": "stream",
     "text": [
      "<re.Match object; span=(0, 5), match='teste'>\n",
      "['teste']\n"
     ]
    }
   ],
   "source": [
    "expr_reg = re.compile(r'teste')\n",
    "print(expr_reg.search('teste'))\n",
    "print(expr_reg.findall('teste'))"
   ]
  },
  {
   "cell_type": "markdown",
   "metadata": {},
   "source": [
    "# Meta caracteres: . ^, $, * + ? { }  [ ] \\ | ( )\n",
    "Por simbolizarem comportamentos específicos dos métodos de expressões regulares, não é possível utilizá-los diretamente nas expressões regulares como caracteres comuns. Os quantificadores se referem ao caractere ou array de caracteres que está à sua esquerda"
   ]
  },
  {
   "cell_type": "code",
   "execution_count": 25,
   "metadata": {},
   "outputs": [
    {
     "name": "stdout",
     "output_type": "stream",
     "text": [
      "<re.Match object; span=(1, 2), match='a'>\n",
      "[' Es', ' as', ' as', ' os', ' es']\n",
      "['os', 'as', 'as', 'os', 'os', 'os']\n",
      "['ss', 'ss', 'us', 'rs', 'os', 'ss', 'ss', 'os', 'os', 'os']\n",
      "['ss', 'ss', 'us', 'rs', 'os', 'ss', 'ss', 'os', 'os', 'os']\n",
      "['Esse']\n"
     ]
    }
   ],
   "source": [
    "ex2 = 'Fala pessoal, tudo bem? Esse vídeo é uma seção bônus do meu curso de Python que resolvi disponibilizar aqui no Youtube também. São 14 vídeos em uma playlist com muito assunto sobre as expressões regulares (está super completo). Você pode acompanhar a playlist em ordem no link a seguir, todos os vídeos já estão disponíveis:'\n",
    "print(re.search(r'a| os', ex2)) # caractere OU = |\n",
    "# o '.'  representa QUALQUER caractere, com exceção da quebra de linha \n",
    "print(re.findall(' .s', ex2))\n",
    "# o [] representa opções de caracteres que podem ser considerados naquela posição da expressão regular\n",
    "print(re.findall('[oa]s', ex2))\n",
    "print(re.findall('[o-z]s', ex2)) # range de caracteres em ordem alfabética\n",
    "print(re.findall('[o-z]s', ex2, flags = re.I)) # flag para ignorar diferenças entre letras maiúsculas e minúsculas\n",
    "# o '*' representa 0 ou n \n",
    "# o '+' representa 1 ou n\n",
    "print(re.findall(r'es+e', ex2, flags = re.I))\n",
    "# o '?' representa 0 ou 1\n",
    "# {} quantidades especificas {n} ou {min,max} \n"
   ]
  },
  {
   "cell_type": "code",
   "execution_count": null,
   "metadata": {},
   "outputs": [],
   "source": []
  }
 ],
 "metadata": {
  "kernelspec": {
   "display_name": "Python 3",
   "language": "python",
   "name": "python3"
  },
  "language_info": {
   "codemirror_mode": {
    "name": "ipython",
    "version": 3
   },
   "file_extension": ".py",
   "mimetype": "text/x-python",
   "name": "python",
   "nbconvert_exporter": "python",
   "pygments_lexer": "ipython3",
   "version": "3.8.5"
  }
 },
 "nbformat": 4,
 "nbformat_minor": 4
}
